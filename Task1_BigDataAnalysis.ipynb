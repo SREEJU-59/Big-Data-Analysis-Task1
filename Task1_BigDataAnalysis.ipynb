{
  "nbformat": 4,
  "nbformat_minor": 0,
  "metadata": {
    "colab": {
      "provenance": []
    },
    "kernelspec": {
      "name": "python3",
      "display_name": "Python 3"
    },
    "language_info": {
      "name": "python"
    }
  },
  "cells": [
    {
      "cell_type": "code",
      "execution_count": null,
      "metadata": {
        "colab": {
          "base_uri": "https://localhost:8080/"
        },
        "id": "FJtwAHzrPKlT",
        "outputId": "cfef03c9-8b3a-4790-bdfe-0d81f652c5fc"
      },
      "outputs": [
        {
          "output_type": "stream",
          "name": "stdout",
          "text": [
            "Requirement already satisfied: pyspark in /usr/local/lib/python3.12/dist-packages (3.5.1)\n",
            "Requirement already satisfied: py4j==0.10.9.7 in /usr/local/lib/python3.12/dist-packages (from pyspark) (0.10.9.7)\n"
          ]
        }
      ],
      "source": [
        "!pip install pyspark"
      ]
    },
    {
      "cell_type": "code",
      "source": [
        "from pyspark.sql import SparkSession\n",
        "from pyspark.sql.functions import col, count, desc\n",
        "\n",
        "# Create Spark session\n",
        "spark = SparkSession.builder.appName(\"NetflixBigDataAnalysis\").getOrCreate()\n"
      ],
      "metadata": {
        "id": "rPLe4nydQvat"
      },
      "execution_count": null,
      "outputs": []
    },
    {
      "cell_type": "code",
      "source": [
        "# Load dataset\n",
        "df = spark.read.csv(\"/content/netflix_titles_nov_2019.csv\", header=True, inferSchema=True)\n",
        "\n",
        "# Check schema\n",
        "df.printSchema()\n",
        "\n",
        "# Show first 5 rows\n",
        "df.show(5)\n"
      ],
      "metadata": {
        "colab": {
          "base_uri": "https://localhost:8080/"
        },
        "id": "ERcyBL-oQ1Ue",
        "outputId": "a88717ea-7e77-423d-e57c-8f40d57274d1"
      },
      "execution_count": null,
      "outputs": [
        {
          "output_type": "stream",
          "name": "stdout",
          "text": [
            "root\n",
            " |-- show_id: string (nullable = true)\n",
            " |-- title: string (nullable = true)\n",
            " |-- director: string (nullable = true)\n",
            " |-- cast: string (nullable = true)\n",
            " |-- country: string (nullable = true)\n",
            " |-- date_added: string (nullable = true)\n",
            " |-- release_year: string (nullable = true)\n",
            " |-- rating: string (nullable = true)\n",
            " |-- duration: string (nullable = true)\n",
            " |-- listed_in: string (nullable = true)\n",
            " |-- description: string (nullable = true)\n",
            " |-- type: string (nullable = true)\n",
            "\n",
            "+--------+--------------------+--------------------+--------------------+--------------------+-----------------+------------+------+---------+--------------------+--------------------+-------+\n",
            "| show_id|               title|            director|                cast|             country|       date_added|release_year|rating| duration|           listed_in|         description|   type|\n",
            "+--------+--------------------+--------------------+--------------------+--------------------+-----------------+------------+------+---------+--------------------+--------------------+-------+\n",
            "|81193313|           Chocolate|                NULL|Ha Ji-won, Yoon K...|         South Korea|November 30, 2019|        2019| TV-14| 1 Season|International TV ...|Brought together ...|TV Show|\n",
            "|81197050|Guatemala: Heart ...|Luis Ara, Ignacio...|   Christian Morales|                NULL|November 30, 2019|        2019|  TV-G|   67 min|Documentaries, In...|From Sierra de la...|  Movie|\n",
            "|81213894|     The Zoya Factor|     Abhishek Sharma|Sonam Kapoor, Dul...|               India|November 30, 2019|        2019| TV-14|  135 min|Comedies, Dramas,...|A goofy copywrite...|  Movie|\n",
            "|81082007|           Atlantics|           Mati Diop|Mama Sane, Amadou...|France, Senegal, ...|November 29, 2019|        2019| TV-14|  106 min|Dramas, Independe...|Arranged to marry...|  Movie|\n",
            "|80213643|     Chip and Potato|                NULL|Abigail Oliver, A...|Canada, United Ki...|             NULL|        2019|  TV-Y|2 Seasons|            Kids' TV|Lovable pug Chip ...|TV Show|\n",
            "+--------+--------------------+--------------------+--------------------+--------------------+-----------------+------------+------+---------+--------------------+--------------------+-------+\n",
            "only showing top 5 rows\n",
            "\n"
          ]
        }
      ]
    },
    {
      "cell_type": "code",
      "source": [
        "df.groupBy(\"type\").count().show()\n",
        "df.groupBy(\"country\").count().orderBy(desc(\"count\")).show(10)\n",
        "df.groupBy(\"listed_in\").count().orderBy(desc(\"count\")).show(10)\n",
        "df.groupBy(\"release_year\").count().orderBy(\"release_year\").show(20)\n"
      ],
      "metadata": {
        "colab": {
          "base_uri": "https://localhost:8080/"
        },
        "id": "QcejTK4GQ9tK",
        "outputId": "e0e33b06-ec7d-473c-d79f-c9e9cabec7ba"
      },
      "execution_count": null,
      "outputs": [
        {
          "output_type": "stream",
          "name": "stdout",
          "text": [
            "+--------------------+-----+\n",
            "|                type|count|\n",
            "+--------------------+-----+\n",
            "| raking in the lo...|    1|\n",
            "| Robb Wells and M...|    1|\n",
            "|\"\" four short fil...|    1|\n",
            "| and tensions run...|    1|\n",
            "| political hypocr...|    1|\n",
            "|\"\" his exposé on ...|    1|\n",
            "| his family and h...|    1|\n",
            "| Frankie Stein an...|    1|\n",
            "| music and acting...|    1|\n",
            "| 10-story collect...|    1|\n",
            "| middling salesma...|    1|\n",
            "| viewers are trea...|    1|\n",
            "|    North Carolina.\"|    1|\n",
            "|\"\" a secretly gay...|    1|\n",
            "| where their pare...|    1|\n",
            "| Prius-driving co...|    1|\n",
            "|                2017|    1|\n",
            "|\"\" this exciting ...|    1|\n",
            "|\"\" Ali Wong is ba...|    1|\n",
            "|\"\" does not accep...|    1|\n",
            "+--------------------+-----+\n",
            "only showing top 20 rows\n",
            "\n",
            "+--------------+-----+\n",
            "|       country|count|\n",
            "+--------------+-----+\n",
            "| United States| 1900|\n",
            "|         India|  697|\n",
            "|          NULL|  429|\n",
            "|United Kingdom|  336|\n",
            "|         Japan|  168|\n",
            "|        Canada|  139|\n",
            "|   South Korea|  133|\n",
            "|         Spain|  113|\n",
            "|        France|   85|\n",
            "|        Mexico|   80|\n",
            "+--------------+-----+\n",
            "only showing top 10 rows\n",
            "\n",
            "+--------------------+-----+\n",
            "|           listed_in|count|\n",
            "+--------------------+-----+\n",
            "|       Documentaries|  297|\n",
            "|     Stand-Up Comedy|  265|\n",
            "|Dramas, Internati...|  238|\n",
            "|Dramas, Independe...|  170|\n",
            "|Comedies, Dramas,...|  157|\n",
            "|            Kids' TV|  153|\n",
            "|Documentaries, In...|  147|\n",
            "|Children & Family...|  115|\n",
            "|Comedies, Interna...|  113|\n",
            "|Children & Family...|  110|\n",
            "+--------------------+-----+\n",
            "only showing top 10 rows\n",
            "\n",
            "+-----------------+-----+\n",
            "|     release_year|count|\n",
            "+-----------------+-----+\n",
            "|             NULL|    2|\n",
            "|   Francis Weddey|    1|\n",
            "|      Jade Eshete|    1|\n",
            "| Kristen Johnston|    1|\n",
            "| Marquell Manning|    1|\n",
            "|   Peter Ferriero|    1|\n",
            "|     Ted Ferguson|    1|\n",
            "|             1925|    1|\n",
            "|             1942|    2|\n",
            "|             1943|    3|\n",
            "|             1944|    2|\n",
            "|             1945|    3|\n",
            "|             1946|    3|\n",
            "|             1947|    1|\n",
            "|             1954|    1|\n",
            "|             1955|    1|\n",
            "|             1956|    1|\n",
            "|             1958|    2|\n",
            "|             1959|    1|\n",
            "|             1960|    3|\n",
            "+-----------------+-----+\n",
            "only showing top 20 rows\n",
            "\n"
          ]
        }
      ]
    },
    {
      "cell_type": "code",
      "source": [
        "import matplotlib.pyplot as plt\n",
        "import pandas as pd\n",
        "\n",
        "# Convert release_year to integer and filter valid values\n",
        "trend_df = (\n",
        "    df.filter(col(\"release_year\").isNotNull())       # remove nulls\n",
        "      .filter(col(\"release_year\").cast(\"int\").isNotNull())  # keep only numbers\n",
        "      .groupBy(\"release_year\")\n",
        "      .count()\n",
        "      .orderBy(\"release_year\")\n",
        "      .toPandas()\n",
        ")\n",
        "\n",
        "# Ensure correct type\n",
        "trend_df[\"release_year\"] = pd.to_numeric(trend_df[\"release_year\"], errors=\"coerce\")\n",
        "trend_df = trend_df.dropna().astype({\"release_year\": \"int\"})\n",
        "\n",
        "# Plot\n",
        "plt.figure(figsize=(12,6))\n",
        "plt.plot(trend_df[\"release_year\"], trend_df[\"count\"], marker=\"o\")\n",
        "plt.xlabel(\"Release Year\")\n",
        "plt.ylabel(\"Number of Titles\")\n",
        "plt.title(\"Netflix Content Trend Over Years\")\n",
        "plt.show()\n"
      ],
      "metadata": {
        "colab": {
          "base_uri": "https://localhost:8080/",
          "height": 356
        },
        "id": "O3kogTMGR3cE",
        "outputId": "cfc2b758-dcaf-4349-e83e-fd610bc64d39"
      },
      "execution_count": null,
      "outputs": [
        {
          "output_type": "display_data",
          "data": {
            "text/plain": [
              "<Figure size 1200x600 with 1 Axes>"
            ],
            "image/png": "[encoded data removed]"
          },
          "metadata": {}
        }
      ]
    },
    {
      "cell_type": "code",
      "source": [
        "df.groupBy(\"country\").count().orderBy(desc(\"count\")).toPandas().to_csv(\"netflix_country_counts.csv\", index=False)\n"
      ],
      "metadata": {
        "id": "kUiATKMWR6_H"
      },
      "execution_count": null,
      "outputs": []
    }
  ]
}